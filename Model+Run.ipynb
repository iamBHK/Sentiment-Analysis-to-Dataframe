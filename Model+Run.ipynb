{
 "cells": [
  {
   "cell_type": "code",
   "execution_count": 4,
   "id": "80da1d1a",
   "metadata": {},
   "outputs": [],
   "source": [
    "%run NLP_Lib.ipynb"
   ]
  },
  {
   "cell_type": "code",
   "execution_count": 5,
   "id": "d1e96a33",
   "metadata": {},
   "outputs": [],
   "source": [
    "def senti_ana():\n",
    "    query = input(\"Give the text to be checked : \")\n",
    "\n",
    "\n",
    "    for i in range(len(model)):\n",
    "        new_model = model[i](query)[0]\n",
    "        model_name = model[i]\n",
    "        label = new_model['label']\n",
    "        score = new_model['score']\n",
    "        query = query\n",
    "        \n",
    "        if label=='LABEL_0':\n",
    "            label = 'Positive' \n",
    "        elif label=='LABEL_1':\n",
    "            label = 'Neutral' \n",
    "        elif label=='LABEL_2':\n",
    "            label = 'Negative'\n",
    "        else:\n",
    "            label = label\n",
    "        df = pd.read_csv('S_Analysis.csv')\n",
    "        df = df.append(\n",
    "            {\n",
    "                'model' : model_name,\n",
    "                'label' : label,\n",
    "                'score' : score,\n",
    "                'given_ip' : query\n",
    "\n",
    "            }, ignore_index=True\n",
    "        )\n",
    "        df.to_csv('S_Analysis.csv', index=False)\n",
    "        print(new_model)    "
   ]
  },
  {
   "cell_type": "code",
   "execution_count": 7,
   "id": "0fd65be8",
   "metadata": {},
   "outputs": [
    {
     "name": "stdout",
     "output_type": "stream",
     "text": [
      "Give the text to be checked : go for a hero\n",
      "{'label': 'LABEL_2', 'score': 0.9958328604698181}\n",
      "{'label': 'POS', 'score': 0.8553354740142822}\n",
      "{'label': 'LABEL_1', 'score': 0.6691083908081055}\n",
      "{'label': 'joy', 'score': 0.9909377098083496}\n"
     ]
    },
    {
     "data": {
      "text/html": [
       "<div>\n",
       "<style scoped>\n",
       "    .dataframe tbody tr th:only-of-type {\n",
       "        vertical-align: middle;\n",
       "    }\n",
       "\n",
       "    .dataframe tbody tr th {\n",
       "        vertical-align: top;\n",
       "    }\n",
       "\n",
       "    .dataframe thead th {\n",
       "        text-align: right;\n",
       "    }\n",
       "</style>\n",
       "<table border=\"1\" class=\"dataframe\">\n",
       "  <thead>\n",
       "    <tr style=\"text-align: right;\">\n",
       "      <th></th>\n",
       "      <th>Unnamed: 0</th>\n",
       "      <th>model</th>\n",
       "      <th>label</th>\n",
       "      <th>score</th>\n",
       "      <th>given_ip</th>\n",
       "    </tr>\n",
       "  </thead>\n",
       "  <tbody>\n",
       "    <tr>\n",
       "      <th>4</th>\n",
       "      <td>NaN</td>\n",
       "      <td>&lt;transformers.pipelines.text_classification.Te...</td>\n",
       "      <td>joy</td>\n",
       "      <td>0.997146</td>\n",
       "      <td>positive motto is good</td>\n",
       "    </tr>\n",
       "    <tr>\n",
       "      <th>5</th>\n",
       "      <td>NaN</td>\n",
       "      <td>&lt;transformers.pipelines.text_classification.Te...</td>\n",
       "      <td>Negative</td>\n",
       "      <td>0.995833</td>\n",
       "      <td>go for a hero</td>\n",
       "    </tr>\n",
       "    <tr>\n",
       "      <th>6</th>\n",
       "      <td>NaN</td>\n",
       "      <td>&lt;transformers.pipelines.text_classification.Te...</td>\n",
       "      <td>POS</td>\n",
       "      <td>0.855335</td>\n",
       "      <td>go for a hero</td>\n",
       "    </tr>\n",
       "    <tr>\n",
       "      <th>7</th>\n",
       "      <td>NaN</td>\n",
       "      <td>&lt;transformers.pipelines.text_classification.Te...</td>\n",
       "      <td>Neutral</td>\n",
       "      <td>0.669108</td>\n",
       "      <td>go for a hero</td>\n",
       "    </tr>\n",
       "    <tr>\n",
       "      <th>8</th>\n",
       "      <td>NaN</td>\n",
       "      <td>&lt;transformers.pipelines.text_classification.Te...</td>\n",
       "      <td>joy</td>\n",
       "      <td>0.990938</td>\n",
       "      <td>go for a hero</td>\n",
       "    </tr>\n",
       "  </tbody>\n",
       "</table>\n",
       "</div>"
      ],
      "text/plain": [
       "   Unnamed: 0                                              model     label  \\\n",
       "4         NaN  <transformers.pipelines.text_classification.Te...       joy   \n",
       "5         NaN  <transformers.pipelines.text_classification.Te...  Negative   \n",
       "6         NaN  <transformers.pipelines.text_classification.Te...       POS   \n",
       "7         NaN  <transformers.pipelines.text_classification.Te...   Neutral   \n",
       "8         NaN  <transformers.pipelines.text_classification.Te...       joy   \n",
       "\n",
       "      score                given_ip  \n",
       "4  0.997146  positive motto is good  \n",
       "5  0.995833           go for a hero  \n",
       "6  0.855335           go for a hero  \n",
       "7  0.669108           go for a hero  \n",
       "8  0.990938           go for a hero  "
      ]
     },
     "execution_count": 7,
     "metadata": {},
     "output_type": "execute_result"
    }
   ],
   "source": [
    "senti_ana()\n",
    "load = pd.read_csv('S_Analysis.csv')\n",
    "load.tail()"
   ]
  },
  {
   "cell_type": "code",
   "execution_count": 9,
   "id": "6fa4154b",
   "metadata": {},
   "outputs": [],
   "source": [
    "# From here we can again work with Data Scientist skills such as one hot encoding, plotting"
   ]
  },
  {
   "cell_type": "code",
   "execution_count": null,
   "id": "6e3c2420",
   "metadata": {},
   "outputs": [],
   "source": []
  },
  {
   "cell_type": "code",
   "execution_count": null,
   "id": "73296878",
   "metadata": {},
   "outputs": [],
   "source": []
  }
 ],
 "metadata": {
  "kernelspec": {
   "display_name": "Python 3 (ipykernel)",
   "language": "python",
   "name": "python3"
  },
  "language_info": {
   "codemirror_mode": {
    "name": "ipython",
    "version": 3
   },
   "file_extension": ".py",
   "mimetype": "text/x-python",
   "name": "python",
   "nbconvert_exporter": "python",
   "pygments_lexer": "ipython3",
   "version": "3.9.13"
  }
 },
 "nbformat": 4,
 "nbformat_minor": 5
}
