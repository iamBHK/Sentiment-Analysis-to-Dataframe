{
 "cells": [
  {
   "cell_type": "code",
   "execution_count": 1,
   "id": "a1b570d5",
   "metadata": {},
   "outputs": [
    {
     "data": {
      "text/html": [
       "<div>\n",
       "<style scoped>\n",
       "    .dataframe tbody tr th:only-of-type {\n",
       "        vertical-align: middle;\n",
       "    }\n",
       "\n",
       "    .dataframe tbody tr th {\n",
       "        vertical-align: top;\n",
       "    }\n",
       "\n",
       "    .dataframe thead th {\n",
       "        text-align: right;\n",
       "    }\n",
       "</style>\n",
       "<table border=\"1\" class=\"dataframe\">\n",
       "  <thead>\n",
       "    <tr style=\"text-align: right;\">\n",
       "      <th></th>\n",
       "      <th>Unnamed: 0</th>\n",
       "      <th>model</th>\n",
       "      <th>label</th>\n",
       "      <th>score</th>\n",
       "      <th>given_ip</th>\n",
       "    </tr>\n",
       "  </thead>\n",
       "  <tbody>\n",
       "    <tr>\n",
       "      <th>0</th>\n",
       "      <td>0</td>\n",
       "      <td>Fin Model</td>\n",
       "      <td>NEG</td>\n",
       "      <td>0.999999</td>\n",
       "      <td>This is good</td>\n",
       "    </tr>\n",
       "  </tbody>\n",
       "</table>\n",
       "</div>"
      ],
      "text/plain": [
       "   Unnamed: 0      model label     score      given_ip\n",
       "0           0  Fin Model   NEG  0.999999  This is good"
      ]
     },
     "execution_count": 1,
     "metadata": {},
     "output_type": "execute_result"
    }
   ],
   "source": [
    "import warnings\n",
    "warnings.filterwarnings('ignore')\n",
    "\n",
    "from transformers import AutoTokenizer, AutoModelForSequenceClassification\n",
    "\n",
    "import transformers\n",
    "\n",
    "from transformers import pipeline\n",
    "\n",
    "import pandas as pd\n",
    "\n",
    "sheet_sent = pipeline(model=\"Seethal/sentiment_analysis_generic_dataset\")\n",
    "fin_model = pipeline(model=\"finiteautomata/bertweet-base-sentiment-analysis\")\n",
    "cardi_twi = pipeline(model='cardiffnlp/twitter-roberta-base-sentiment')\n",
    "bhad_distil = pipeline(model = 'bhadresh-savani/distilbert-base-uncased-emotion')\n",
    "\n",
    "model = [sheet_sent, fin_model, cardi_twi, bhad_distil]\n",
    "df = pd.DataFrame(\n",
    "    {\n",
    "        'model' : ['Fin Model'],\n",
    "        'label' : ['NEG'],\n",
    "        'score' : [0.999999],\n",
    "        'given_ip' : 'This is good'\n",
    "    }\n",
    ")\n",
    "\n",
    "df.to_csv('S_Analysis.csv')\n",
    "df = pd.read_csv('S_Analysis.csv')\n",
    "df"
   ]
  },
  {
   "cell_type": "code",
   "execution_count": null,
   "id": "cef28b09",
   "metadata": {},
   "outputs": [],
   "source": []
  }
 ],
 "metadata": {
  "kernelspec": {
   "display_name": "Python 3 (ipykernel)",
   "language": "python",
   "name": "python3"
  },
  "language_info": {
   "codemirror_mode": {
    "name": "ipython",
    "version": 3
   },
   "file_extension": ".py",
   "mimetype": "text/x-python",
   "name": "python",
   "nbconvert_exporter": "python",
   "pygments_lexer": "ipython3",
   "version": "3.9.13"
  }
 },
 "nbformat": 4,
 "nbformat_minor": 5
}
